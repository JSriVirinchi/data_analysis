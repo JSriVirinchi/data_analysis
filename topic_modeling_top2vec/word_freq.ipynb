{
 "cells": [
  {
   "cell_type": "code",
   "execution_count": 74,
   "metadata": {},
   "outputs": [],
   "source": [
    "import spacy\n",
    "import pandas as pd\n",
    "from collections import defaultdict"
   ]
  },
  {
   "cell_type": "code",
   "execution_count": 30,
   "metadata": {},
   "outputs": [],
   "source": [
    "input_file = '/Users/kscaria/Dropbox (ASU)/Kevin Files/Sentiment Analysis/instructional_learning_based_absa/t5-small-tweets_1k_raw/raw_tweets_10k.csv'\n",
    "text_col = 'text'\n",
    "\n",
    "if input_file.endswith('.xlsx'):\n",
    "    df = pd.read_excel(input_file)\n",
    "elif input_file.endswith('.csv'):\n",
    "    df = pd.read_csv(input_file)\n"
   ]
  },
  {
   "cell_type": "code",
   "execution_count": 31,
   "metadata": {},
   "outputs": [],
   "source": [
    "# Stopwords\n",
    "nlp = spacy.load('en_core_web_md')\n",
    "custom_stopwords = pd.read_csv('./Top2VecDT/supporting_files/custom_stopwords.csv', header=None)[0].tolist()\n",
    "\n",
    "# # exclude words from spacy stopwords list\n",
    "for w in custom_stopwords:\n",
    "    nlp.Defaults.stop_words.add(w)\n"
   ]
  },
  {
   "cell_type": "code",
   "execution_count": 72,
   "metadata": {},
   "outputs": [],
   "source": [
    "samples = []\n",
    "for sample in df[df['pred_labels'] == 'positive']['text'][:]:\n",
    "    sample_reconstruct = []\n",
    "    for token in sample.split():\n",
    "        if token not in nlp.Defaults.stop_words and 'http' not in token:\n",
    "            sample_reconstruct.append(token)\n",
    "    samples.append(sample_reconstruct)"
   ]
  },
  {
   "cell_type": "code",
   "execution_count": 76,
   "metadata": {},
   "outputs": [],
   "source": [
    "word_count = defaultdict(int)\n",
    "for sample in samples:\n",
    "    for token in sample:\n",
    "        word_count[token]+=1"
   ]
  },
  {
   "cell_type": "code",
   "execution_count": 84,
   "metadata": {},
   "outputs": [],
   "source": [
    "word_count = {k: v for k, v in sorted(word_count.items(), key=lambda item: item[1], reverse=True)}"
   ]
  },
  {
   "cell_type": "code",
   "execution_count": 95,
   "metadata": {},
   "outputs": [],
   "source": [
    "count_df = pd.DataFrame(word_count, index = range(1)).T.reset_index().rename(columns = {'index':'word', 0:'count'})"
   ]
  },
  {
   "cell_type": "code",
   "execution_count": 98,
   "metadata": {},
   "outputs": [],
   "source": [
    "count_df.to_csv('pos_word_count.csv', index = False)"
   ]
  }
 ],
 "metadata": {
  "kernelspec": {
   "display_name": "Python 3.8.13 ('top2vec')",
   "language": "python",
   "name": "python3"
  },
  "language_info": {
   "codemirror_mode": {
    "name": "ipython",
    "version": 3
   },
   "file_extension": ".py",
   "mimetype": "text/x-python",
   "name": "python",
   "nbconvert_exporter": "python",
   "pygments_lexer": "ipython3",
   "version": "3.8.13"
  },
  "orig_nbformat": 4,
  "vscode": {
   "interpreter": {
    "hash": "8d620352f488308d7614fc58bd076afe4db6ed58a05994146991ce89624f35a2"
   }
  }
 },
 "nbformat": 4,
 "nbformat_minor": 2
}
