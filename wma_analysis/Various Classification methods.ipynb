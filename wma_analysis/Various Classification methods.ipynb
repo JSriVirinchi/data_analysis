{
 "cells": [
  {
   "cell_type": "code",
   "execution_count": 84,
   "id": "5c0347a1",
   "metadata": {},
   "outputs": [],
   "source": [
    "import pandas as pd\n",
    "from sklearn.model_selection import train_test_split\n",
    "from sklearn.linear_model import LogisticRegression\n",
    "from sklearn.naive_bayes import MultinomialNB\n",
    "from sklearn.tree import DecisionTreeClassifier\n",
    "from sklearn.svm import SVC\n",
    "from sklearn.ensemble import RandomForestClassifier\n",
    "from sklearn.neural_network import MLPClassifier\n",
    "from sklearn.ensemble import ExtraTreesClassifier\n",
    "from sklearn.ensemble import AdaBoostClassifier\n",
    "from sklearn.metrics import confusion_matrix\n",
    "from sklearn.preprocessing import LabelEncoder\n",
    "from sklearn.metrics import accuracy_score"
   ]
  },
  {
   "cell_type": "markdown",
   "id": "a878cafc",
   "metadata": {},
   "source": [
    "# Data"
   ]
  },
  {
   "cell_type": "code",
   "execution_count": 4,
   "id": "f0090206",
   "metadata": {},
   "outputs": [],
   "source": [
    "df = pd.read_excel('WMA positivity_rates_categories.xlsx')"
   ]
  },
  {
   "cell_type": "code",
   "execution_count": 5,
   "id": "2fd98f78",
   "metadata": {},
   "outputs": [
    {
     "data": {
      "text/html": [
       "<div>\n",
       "<style scoped>\n",
       "    .dataframe tbody tr th:only-of-type {\n",
       "        vertical-align: middle;\n",
       "    }\n",
       "\n",
       "    .dataframe tbody tr th {\n",
       "        vertical-align: top;\n",
       "    }\n",
       "\n",
       "    .dataframe thead th {\n",
       "        text-align: right;\n",
       "    }\n",
       "</style>\n",
       "<table border=\"1\" class=\"dataframe\">\n",
       "  <thead>\n",
       "    <tr style=\"text-align: right;\">\n",
       "      <th></th>\n",
       "      <th>Date</th>\n",
       "      <th>Average of Temperature mean (⁰F)</th>\n",
       "      <th>Average of RH max (%)</th>\n",
       "      <th>Average of Peak Wind max (mph)</th>\n",
       "      <th>WMA Positivity Rate(variable days)</th>\n",
       "      <th>Total Encounters</th>\n",
       "      <th>Tested Encouters</th>\n",
       "      <th>Positive Encounters</th>\n",
       "      <th>Rolling days(Tested Encounters)</th>\n",
       "      <th>Rolling days(Positive Encounter)</th>\n",
       "      <th>...</th>\n",
       "      <th>7 day avg. temp</th>\n",
       "      <th>7 day avg. humidity</th>\n",
       "      <th>7 day avg. wind</th>\n",
       "      <th>30 day tested</th>\n",
       "      <th>30 day positive</th>\n",
       "      <th>30 day positivity %</th>\n",
       "      <th>7 day tested</th>\n",
       "      <th>7 day positive</th>\n",
       "      <th>7 day positivity %</th>\n",
       "      <th>positivity_rates_category</th>\n",
       "    </tr>\n",
       "  </thead>\n",
       "  <tbody>\n",
       "    <tr>\n",
       "      <th>0</th>\n",
       "      <td>2020-01-01</td>\n",
       "      <td>47.435897</td>\n",
       "      <td>81.461538</td>\n",
       "      <td>9.547059</td>\n",
       "      <td>0.000000</td>\n",
       "      <td>25</td>\n",
       "      <td>1</td>\n",
       "      <td>0</td>\n",
       "      <td>1</td>\n",
       "      <td>0</td>\n",
       "      <td>...</td>\n",
       "      <td>47.435897</td>\n",
       "      <td>81.461538</td>\n",
       "      <td>9.547059</td>\n",
       "      <td>1</td>\n",
       "      <td>0</td>\n",
       "      <td>0.000000</td>\n",
       "      <td>1</td>\n",
       "      <td>0</td>\n",
       "      <td>0.000000</td>\n",
       "      <td>category_1</td>\n",
       "    </tr>\n",
       "    <tr>\n",
       "      <th>1</th>\n",
       "      <td>2020-01-02</td>\n",
       "      <td>48.700000</td>\n",
       "      <td>87.650000</td>\n",
       "      <td>13.594118</td>\n",
       "      <td>0.000000</td>\n",
       "      <td>29</td>\n",
       "      <td>0</td>\n",
       "      <td>0</td>\n",
       "      <td>1</td>\n",
       "      <td>0</td>\n",
       "      <td>...</td>\n",
       "      <td>48.067949</td>\n",
       "      <td>84.555769</td>\n",
       "      <td>11.570588</td>\n",
       "      <td>1</td>\n",
       "      <td>0</td>\n",
       "      <td>0.000000</td>\n",
       "      <td>1</td>\n",
       "      <td>0</td>\n",
       "      <td>0.000000</td>\n",
       "      <td>category_1</td>\n",
       "    </tr>\n",
       "    <tr>\n",
       "      <th>2</th>\n",
       "      <td>2020-01-03</td>\n",
       "      <td>50.100000</td>\n",
       "      <td>72.500000</td>\n",
       "      <td>11.035294</td>\n",
       "      <td>0.000000</td>\n",
       "      <td>24</td>\n",
       "      <td>0</td>\n",
       "      <td>0</td>\n",
       "      <td>1</td>\n",
       "      <td>0</td>\n",
       "      <td>...</td>\n",
       "      <td>48.745299</td>\n",
       "      <td>80.537179</td>\n",
       "      <td>11.392157</td>\n",
       "      <td>1</td>\n",
       "      <td>0</td>\n",
       "      <td>0.000000</td>\n",
       "      <td>1</td>\n",
       "      <td>0</td>\n",
       "      <td>0.000000</td>\n",
       "      <td>category_1</td>\n",
       "    </tr>\n",
       "    <tr>\n",
       "      <th>3</th>\n",
       "      <td>2020-01-04</td>\n",
       "      <td>52.600000</td>\n",
       "      <td>72.625000</td>\n",
       "      <td>8.947059</td>\n",
       "      <td>0.000000</td>\n",
       "      <td>22</td>\n",
       "      <td>0</td>\n",
       "      <td>0</td>\n",
       "      <td>1</td>\n",
       "      <td>0</td>\n",
       "      <td>...</td>\n",
       "      <td>49.708974</td>\n",
       "      <td>78.559135</td>\n",
       "      <td>10.780882</td>\n",
       "      <td>1</td>\n",
       "      <td>0</td>\n",
       "      <td>0.000000</td>\n",
       "      <td>1</td>\n",
       "      <td>0</td>\n",
       "      <td>0.000000</td>\n",
       "      <td>category_1</td>\n",
       "    </tr>\n",
       "    <tr>\n",
       "      <th>4</th>\n",
       "      <td>2020-01-05</td>\n",
       "      <td>54.100000</td>\n",
       "      <td>74.775000</td>\n",
       "      <td>10.117647</td>\n",
       "      <td>0.000000</td>\n",
       "      <td>20</td>\n",
       "      <td>0</td>\n",
       "      <td>0</td>\n",
       "      <td>1</td>\n",
       "      <td>0</td>\n",
       "      <td>...</td>\n",
       "      <td>50.587179</td>\n",
       "      <td>77.802308</td>\n",
       "      <td>10.648235</td>\n",
       "      <td>1</td>\n",
       "      <td>0</td>\n",
       "      <td>0.000000</td>\n",
       "      <td>1</td>\n",
       "      <td>0</td>\n",
       "      <td>0.000000</td>\n",
       "      <td>category_1</td>\n",
       "    </tr>\n",
       "    <tr>\n",
       "      <th>...</th>\n",
       "      <td>...</td>\n",
       "      <td>...</td>\n",
       "      <td>...</td>\n",
       "      <td>...</td>\n",
       "      <td>...</td>\n",
       "      <td>...</td>\n",
       "      <td>...</td>\n",
       "      <td>...</td>\n",
       "      <td>...</td>\n",
       "      <td>...</td>\n",
       "      <td>...</td>\n",
       "      <td>...</td>\n",
       "      <td>...</td>\n",
       "      <td>...</td>\n",
       "      <td>...</td>\n",
       "      <td>...</td>\n",
       "      <td>...</td>\n",
       "      <td>...</td>\n",
       "      <td>...</td>\n",
       "      <td>...</td>\n",
       "      <td>...</td>\n",
       "    </tr>\n",
       "    <tr>\n",
       "      <th>1268</th>\n",
       "      <td>2023-06-26</td>\n",
       "      <td>91.225000</td>\n",
       "      <td>20.975000</td>\n",
       "      <td>15.885714</td>\n",
       "      <td>0.068966</td>\n",
       "      <td>5</td>\n",
       "      <td>1</td>\n",
       "      <td>0</td>\n",
       "      <td>29</td>\n",
       "      <td>2</td>\n",
       "      <td>...</td>\n",
       "      <td>86.635256</td>\n",
       "      <td>24.222894</td>\n",
       "      <td>15.710144</td>\n",
       "      <td>29</td>\n",
       "      <td>2</td>\n",
       "      <td>0.068966</td>\n",
       "      <td>8</td>\n",
       "      <td>0</td>\n",
       "      <td>0.000000</td>\n",
       "      <td>category_1</td>\n",
       "    </tr>\n",
       "    <tr>\n",
       "      <th>1269</th>\n",
       "      <td>2023-06-27</td>\n",
       "      <td>89.550000</td>\n",
       "      <td>24.125000</td>\n",
       "      <td>18.962857</td>\n",
       "      <td>0.100000</td>\n",
       "      <td>4</td>\n",
       "      <td>1</td>\n",
       "      <td>1</td>\n",
       "      <td>30</td>\n",
       "      <td>3</td>\n",
       "      <td>...</td>\n",
       "      <td>87.110256</td>\n",
       "      <td>22.990751</td>\n",
       "      <td>15.896675</td>\n",
       "      <td>30</td>\n",
       "      <td>3</td>\n",
       "      <td>0.100000</td>\n",
       "      <td>8</td>\n",
       "      <td>1</td>\n",
       "      <td>0.125000</td>\n",
       "      <td>category_2</td>\n",
       "    </tr>\n",
       "    <tr>\n",
       "      <th>1270</th>\n",
       "      <td>2023-06-28</td>\n",
       "      <td>87.871795</td>\n",
       "      <td>30.871795</td>\n",
       "      <td>19.326471</td>\n",
       "      <td>0.133333</td>\n",
       "      <td>4</td>\n",
       "      <td>1</td>\n",
       "      <td>1</td>\n",
       "      <td>30</td>\n",
       "      <td>4</td>\n",
       "      <td>...</td>\n",
       "      <td>87.253114</td>\n",
       "      <td>22.770971</td>\n",
       "      <td>16.159700</td>\n",
       "      <td>30</td>\n",
       "      <td>4</td>\n",
       "      <td>0.133333</td>\n",
       "      <td>7</td>\n",
       "      <td>2</td>\n",
       "      <td>0.285714</td>\n",
       "      <td>category_2</td>\n",
       "    </tr>\n",
       "    <tr>\n",
       "      <th>1271</th>\n",
       "      <td>2023-06-29</td>\n",
       "      <td>87.650000</td>\n",
       "      <td>26.675000</td>\n",
       "      <td>15.248571</td>\n",
       "      <td>0.129032</td>\n",
       "      <td>5</td>\n",
       "      <td>1</td>\n",
       "      <td>0</td>\n",
       "      <td>31</td>\n",
       "      <td>4</td>\n",
       "      <td>...</td>\n",
       "      <td>87.445971</td>\n",
       "      <td>23.310256</td>\n",
       "      <td>15.996435</td>\n",
       "      <td>31</td>\n",
       "      <td>4</td>\n",
       "      <td>0.129032</td>\n",
       "      <td>6</td>\n",
       "      <td>2</td>\n",
       "      <td>0.333333</td>\n",
       "      <td>category_2</td>\n",
       "    </tr>\n",
       "    <tr>\n",
       "      <th>1272</th>\n",
       "      <td>2023-06-30</td>\n",
       "      <td>90.275000</td>\n",
       "      <td>26.025000</td>\n",
       "      <td>14.365714</td>\n",
       "      <td>0.137931</td>\n",
       "      <td>5</td>\n",
       "      <td>0</td>\n",
       "      <td>0</td>\n",
       "      <td>29</td>\n",
       "      <td>4</td>\n",
       "      <td>...</td>\n",
       "      <td>88.538828</td>\n",
       "      <td>24.053114</td>\n",
       "      <td>15.952353</td>\n",
       "      <td>29</td>\n",
       "      <td>4</td>\n",
       "      <td>0.137931</td>\n",
       "      <td>5</td>\n",
       "      <td>2</td>\n",
       "      <td>0.400000</td>\n",
       "      <td>category_2</td>\n",
       "    </tr>\n",
       "  </tbody>\n",
       "</table>\n",
       "<p>1273 rows × 23 columns</p>\n",
       "</div>"
      ],
      "text/plain": [
       "           Date  Average of Temperature mean (⁰F)  Average of RH max (%)  \\\n",
       "0    2020-01-01                         47.435897              81.461538   \n",
       "1    2020-01-02                         48.700000              87.650000   \n",
       "2    2020-01-03                         50.100000              72.500000   \n",
       "3    2020-01-04                         52.600000              72.625000   \n",
       "4    2020-01-05                         54.100000              74.775000   \n",
       "...         ...                               ...                    ...   \n",
       "1268 2023-06-26                         91.225000              20.975000   \n",
       "1269 2023-06-27                         89.550000              24.125000   \n",
       "1270 2023-06-28                         87.871795              30.871795   \n",
       "1271 2023-06-29                         87.650000              26.675000   \n",
       "1272 2023-06-30                         90.275000              26.025000   \n",
       "\n",
       "      Average of Peak Wind max (mph)  WMA Positivity Rate(variable days)  \\\n",
       "0                           9.547059                            0.000000   \n",
       "1                          13.594118                            0.000000   \n",
       "2                          11.035294                            0.000000   \n",
       "3                           8.947059                            0.000000   \n",
       "4                          10.117647                            0.000000   \n",
       "...                              ...                                 ...   \n",
       "1268                       15.885714                            0.068966   \n",
       "1269                       18.962857                            0.100000   \n",
       "1270                       19.326471                            0.133333   \n",
       "1271                       15.248571                            0.129032   \n",
       "1272                       14.365714                            0.137931   \n",
       "\n",
       "      Total Encounters  Tested Encouters  Positive Encounters  \\\n",
       "0                   25                 1                    0   \n",
       "1                   29                 0                    0   \n",
       "2                   24                 0                    0   \n",
       "3                   22                 0                    0   \n",
       "4                   20                 0                    0   \n",
       "...                ...               ...                  ...   \n",
       "1268                 5                 1                    0   \n",
       "1269                 4                 1                    1   \n",
       "1270                 4                 1                    1   \n",
       "1271                 5                 1                    0   \n",
       "1272                 5                 0                    0   \n",
       "\n",
       "      Rolling days(Tested Encounters)  Rolling days(Positive Encounter)  ...  \\\n",
       "0                                   1                                 0  ...   \n",
       "1                                   1                                 0  ...   \n",
       "2                                   1                                 0  ...   \n",
       "3                                   1                                 0  ...   \n",
       "4                                   1                                 0  ...   \n",
       "...                               ...                               ...  ...   \n",
       "1268                               29                                 2  ...   \n",
       "1269                               30                                 3  ...   \n",
       "1270                               30                                 4  ...   \n",
       "1271                               31                                 4  ...   \n",
       "1272                               29                                 4  ...   \n",
       "\n",
       "      7 day avg. temp  7 day avg. humidity  7 day avg. wind  30 day tested  \\\n",
       "0           47.435897            81.461538         9.547059              1   \n",
       "1           48.067949            84.555769        11.570588              1   \n",
       "2           48.745299            80.537179        11.392157              1   \n",
       "3           49.708974            78.559135        10.780882              1   \n",
       "4           50.587179            77.802308        10.648235              1   \n",
       "...               ...                  ...              ...            ...   \n",
       "1268        86.635256            24.222894        15.710144             29   \n",
       "1269        87.110256            22.990751        15.896675             30   \n",
       "1270        87.253114            22.770971        16.159700             30   \n",
       "1271        87.445971            23.310256        15.996435             31   \n",
       "1272        88.538828            24.053114        15.952353             29   \n",
       "\n",
       "      30 day positive  30 day positivity %  7 day tested  7 day positive  \\\n",
       "0                   0             0.000000             1               0   \n",
       "1                   0             0.000000             1               0   \n",
       "2                   0             0.000000             1               0   \n",
       "3                   0             0.000000             1               0   \n",
       "4                   0             0.000000             1               0   \n",
       "...               ...                  ...           ...             ...   \n",
       "1268                2             0.068966             8               0   \n",
       "1269                3             0.100000             8               1   \n",
       "1270                4             0.133333             7               2   \n",
       "1271                4             0.129032             6               2   \n",
       "1272                4             0.137931             5               2   \n",
       "\n",
       "      7 day positivity %  positivity_rates_category  \n",
       "0               0.000000                 category_1  \n",
       "1               0.000000                 category_1  \n",
       "2               0.000000                 category_1  \n",
       "3               0.000000                 category_1  \n",
       "4               0.000000                 category_1  \n",
       "...                  ...                        ...  \n",
       "1268            0.000000                 category_1  \n",
       "1269            0.125000                 category_2  \n",
       "1270            0.285714                 category_2  \n",
       "1271            0.333333                 category_2  \n",
       "1272            0.400000                 category_2  \n",
       "\n",
       "[1273 rows x 23 columns]"
      ]
     },
     "execution_count": 5,
     "metadata": {},
     "output_type": "execute_result"
    }
   ],
   "source": [
    "df"
   ]
  },
  {
   "cell_type": "code",
   "execution_count": 6,
   "id": "e81d8a23",
   "metadata": {},
   "outputs": [],
   "source": [
    "df = df[['30 day avg. temp','30 day avg. humidity','30 day avg. wind','positivity_rates_category']]"
   ]
  },
  {
   "cell_type": "code",
   "execution_count": 7,
   "id": "ce98f49f",
   "metadata": {},
   "outputs": [
    {
     "data": {
      "text/html": [
       "<div>\n",
       "<style scoped>\n",
       "    .dataframe tbody tr th:only-of-type {\n",
       "        vertical-align: middle;\n",
       "    }\n",
       "\n",
       "    .dataframe tbody tr th {\n",
       "        vertical-align: top;\n",
       "    }\n",
       "\n",
       "    .dataframe thead th {\n",
       "        text-align: right;\n",
       "    }\n",
       "</style>\n",
       "<table border=\"1\" class=\"dataframe\">\n",
       "  <thead>\n",
       "    <tr style=\"text-align: right;\">\n",
       "      <th></th>\n",
       "      <th>30 day avg. temp</th>\n",
       "      <th>30 day avg. humidity</th>\n",
       "      <th>30 day avg. wind</th>\n",
       "      <th>positivity_rates_category</th>\n",
       "    </tr>\n",
       "  </thead>\n",
       "  <tbody>\n",
       "    <tr>\n",
       "      <th>0</th>\n",
       "      <td>47.435897</td>\n",
       "      <td>81.461538</td>\n",
       "      <td>9.547059</td>\n",
       "      <td>category_1</td>\n",
       "    </tr>\n",
       "    <tr>\n",
       "      <th>1</th>\n",
       "      <td>48.067949</td>\n",
       "      <td>84.555769</td>\n",
       "      <td>11.570588</td>\n",
       "      <td>category_1</td>\n",
       "    </tr>\n",
       "    <tr>\n",
       "      <th>2</th>\n",
       "      <td>48.745299</td>\n",
       "      <td>80.537179</td>\n",
       "      <td>11.392157</td>\n",
       "      <td>category_1</td>\n",
       "    </tr>\n",
       "    <tr>\n",
       "      <th>3</th>\n",
       "      <td>49.708974</td>\n",
       "      <td>78.559135</td>\n",
       "      <td>10.780882</td>\n",
       "      <td>category_1</td>\n",
       "    </tr>\n",
       "    <tr>\n",
       "      <th>4</th>\n",
       "      <td>50.587179</td>\n",
       "      <td>77.802308</td>\n",
       "      <td>10.648235</td>\n",
       "      <td>category_1</td>\n",
       "    </tr>\n",
       "    <tr>\n",
       "      <th>...</th>\n",
       "      <td>...</td>\n",
       "      <td>...</td>\n",
       "      <td>...</td>\n",
       "      <td>...</td>\n",
       "    </tr>\n",
       "    <tr>\n",
       "      <th>1268</th>\n",
       "      <td>82.632308</td>\n",
       "      <td>31.416154</td>\n",
       "      <td>17.072336</td>\n",
       "      <td>category_1</td>\n",
       "    </tr>\n",
       "    <tr>\n",
       "      <th>1269</th>\n",
       "      <td>82.926474</td>\n",
       "      <td>31.214487</td>\n",
       "      <td>17.164333</td>\n",
       "      <td>category_2</td>\n",
       "    </tr>\n",
       "    <tr>\n",
       "      <th>1270</th>\n",
       "      <td>83.159701</td>\n",
       "      <td>31.290214</td>\n",
       "      <td>17.128255</td>\n",
       "      <td>category_2</td>\n",
       "    </tr>\n",
       "    <tr>\n",
       "      <th>1271</th>\n",
       "      <td>83.403868</td>\n",
       "      <td>31.161880</td>\n",
       "      <td>16.961345</td>\n",
       "      <td>category_2</td>\n",
       "    </tr>\n",
       "    <tr>\n",
       "      <th>1272</th>\n",
       "      <td>83.895534</td>\n",
       "      <td>30.898547</td>\n",
       "      <td>16.689613</td>\n",
       "      <td>category_2</td>\n",
       "    </tr>\n",
       "  </tbody>\n",
       "</table>\n",
       "<p>1273 rows × 4 columns</p>\n",
       "</div>"
      ],
      "text/plain": [
       "      30 day avg. temp  30 day avg. humidity  30 day avg. wind  \\\n",
       "0            47.435897             81.461538          9.547059   \n",
       "1            48.067949             84.555769         11.570588   \n",
       "2            48.745299             80.537179         11.392157   \n",
       "3            49.708974             78.559135         10.780882   \n",
       "4            50.587179             77.802308         10.648235   \n",
       "...                ...                   ...               ...   \n",
       "1268         82.632308             31.416154         17.072336   \n",
       "1269         82.926474             31.214487         17.164333   \n",
       "1270         83.159701             31.290214         17.128255   \n",
       "1271         83.403868             31.161880         16.961345   \n",
       "1272         83.895534             30.898547         16.689613   \n",
       "\n",
       "     positivity_rates_category  \n",
       "0                   category_1  \n",
       "1                   category_1  \n",
       "2                   category_1  \n",
       "3                   category_1  \n",
       "4                   category_1  \n",
       "...                        ...  \n",
       "1268                category_1  \n",
       "1269                category_2  \n",
       "1270                category_2  \n",
       "1271                category_2  \n",
       "1272                category_2  \n",
       "\n",
       "[1273 rows x 4 columns]"
      ]
     },
     "execution_count": 7,
     "metadata": {},
     "output_type": "execute_result"
    }
   ],
   "source": [
    "df"
   ]
  },
  {
   "cell_type": "code",
   "execution_count": 10,
   "id": "98f5c15c",
   "metadata": {},
   "outputs": [],
   "source": [
    "X = df[['30 day avg. temp','30 day avg. humidity','30 day avg. wind']]\n",
    "y = df['positivity_rates_category'] "
   ]
  },
  {
   "cell_type": "code",
   "execution_count": 11,
   "id": "49c0b809",
   "metadata": {},
   "outputs": [],
   "source": [
    "X_train, X_test, y_train, y_test = train_test_split(X, y, test_size=0.2, random_state=42)"
   ]
  },
  {
   "cell_type": "markdown",
   "id": "e0a0f519",
   "metadata": {},
   "source": [
    "# Logistic Regression "
   ]
  },
  {
   "cell_type": "code",
   "execution_count": 12,
   "id": "e8de039e",
   "metadata": {},
   "outputs": [],
   "source": [
    "clf_logistic_regression = LogisticRegression(random_state=42)"
   ]
  },
  {
   "cell_type": "code",
   "execution_count": 13,
   "id": "6b80e24c",
   "metadata": {},
   "outputs": [
    {
     "name": "stderr",
     "output_type": "stream",
     "text": [
      "C:\\Users\\sjunuthu\\Anaconda3\\lib\\site-packages\\sklearn\\linear_model\\_logistic.py:814: ConvergenceWarning: lbfgs failed to converge (status=1):\n",
      "STOP: TOTAL NO. of ITERATIONS REACHED LIMIT.\n",
      "\n",
      "Increase the number of iterations (max_iter) or scale the data as shown in:\n",
      "    https://scikit-learn.org/stable/modules/preprocessing.html\n",
      "Please also refer to the documentation for alternative solver options:\n",
      "    https://scikit-learn.org/stable/modules/linear_model.html#logistic-regression\n",
      "  n_iter_i = _check_optimize_result(\n"
     ]
    },
    {
     "data": {
      "text/plain": [
       "LogisticRegression(random_state=42)"
      ]
     },
     "execution_count": 13,
     "metadata": {},
     "output_type": "execute_result"
    }
   ],
   "source": [
    "clf_logistic_regression.fit(X_train, y_train)"
   ]
  },
  {
   "cell_type": "code",
   "execution_count": 14,
   "id": "12de455e",
   "metadata": {},
   "outputs": [],
   "source": [
    "y_pred_logistic_regression = clf_logistic_regression.predict(X_test)"
   ]
  },
  {
   "cell_type": "code",
   "execution_count": 20,
   "id": "19e0c649",
   "metadata": {},
   "outputs": [
    {
     "name": "stdout",
     "output_type": "stream",
     "text": [
      "Accuracy: 0.47\n"
     ]
    }
   ],
   "source": [
    "accuracy_logistic_regression = accuracy_score(y_test, y_pred_logistic_regression)\n",
    "print(f\"Accuracy: {accuracy_logistic_regression:.2f}\")"
   ]
  },
  {
   "cell_type": "markdown",
   "id": "080180fb",
   "metadata": {},
   "source": [
    "# SVM"
   ]
  },
  {
   "cell_type": "code",
   "execution_count": 17,
   "id": "ff7aadf7",
   "metadata": {},
   "outputs": [],
   "source": [
    "clf_svc = SVC(random_state=42)"
   ]
  },
  {
   "cell_type": "code",
   "execution_count": 18,
   "id": "405368f9",
   "metadata": {},
   "outputs": [
    {
     "data": {
      "text/plain": [
       "SVC(random_state=42)"
      ]
     },
     "execution_count": 18,
     "metadata": {},
     "output_type": "execute_result"
    }
   ],
   "source": [
    "clf_svc.fit(X_train, y_train)"
   ]
  },
  {
   "cell_type": "code",
   "execution_count": 19,
   "id": "10741109",
   "metadata": {},
   "outputs": [],
   "source": [
    "y_pred_svc = clf_svc.predict(X_test)"
   ]
  },
  {
   "cell_type": "code",
   "execution_count": 21,
   "id": "a10a7909",
   "metadata": {},
   "outputs": [
    {
     "name": "stdout",
     "output_type": "stream",
     "text": [
      "Accuracy: 0.53\n"
     ]
    }
   ],
   "source": [
    "accuracy_svc = accuracy_score(y_test, y_pred_svc)\n",
    "print(f\"Accuracy: {accuracy_svc:.2f}\")"
   ]
  },
  {
   "cell_type": "markdown",
   "id": "033e83fb",
   "metadata": {},
   "source": [
    "# Naive Bayes"
   ]
  },
  {
   "cell_type": "code",
   "execution_count": 23,
   "id": "01c3cf59",
   "metadata": {},
   "outputs": [],
   "source": [
    "clf_nb = MultinomialNB()"
   ]
  },
  {
   "cell_type": "code",
   "execution_count": 24,
   "id": "e124ce54",
   "metadata": {},
   "outputs": [
    {
     "data": {
      "text/plain": [
       "MultinomialNB()"
      ]
     },
     "execution_count": 24,
     "metadata": {},
     "output_type": "execute_result"
    }
   ],
   "source": [
    "clf_nb.fit(X_train, y_train)"
   ]
  },
  {
   "cell_type": "code",
   "execution_count": 25,
   "id": "27710a60",
   "metadata": {},
   "outputs": [],
   "source": [
    "y_pred_nb = clf_nb.predict(X_test)"
   ]
  },
  {
   "cell_type": "code",
   "execution_count": 26,
   "id": "ea95a7f0",
   "metadata": {},
   "outputs": [
    {
     "name": "stdout",
     "output_type": "stream",
     "text": [
      "Accuracy: 0.47\n"
     ]
    }
   ],
   "source": [
    "accuracy_nb = accuracy_score(y_test, y_pred_nb)\n",
    "print(f\"Accuracy: {accuracy_nb:.2f}\")"
   ]
  },
  {
   "cell_type": "markdown",
   "id": "303ed7ad",
   "metadata": {},
   "source": [
    "# Multi layer perceptron"
   ]
  },
  {
   "cell_type": "code",
   "execution_count": 59,
   "id": "394dc08e",
   "metadata": {},
   "outputs": [],
   "source": [
    "clf_mlp = MLPClassifier(hidden_layer_sizes=(100, 50), activation='relu', alpha=0.001,\n",
    "                    learning_rate_init=0.001, max_iter=1000, random_state=42)"
   ]
  },
  {
   "cell_type": "code",
   "execution_count": 60,
   "id": "4816b52b",
   "metadata": {},
   "outputs": [
    {
     "data": {
      "text/plain": [
       "MLPClassifier(alpha=0.001, hidden_layer_sizes=(100, 50), max_iter=1000,\n",
       "              random_state=42)"
      ]
     },
     "execution_count": 60,
     "metadata": {},
     "output_type": "execute_result"
    }
   ],
   "source": [
    "clf_mlp.fit(X_train, y_train)"
   ]
  },
  {
   "cell_type": "code",
   "execution_count": 61,
   "id": "22a63e67",
   "metadata": {},
   "outputs": [],
   "source": [
    "y_pred_mlp = clf_mlp.predict(X_test)"
   ]
  },
  {
   "cell_type": "code",
   "execution_count": 62,
   "id": "e5803f33",
   "metadata": {},
   "outputs": [
    {
     "name": "stdout",
     "output_type": "stream",
     "text": [
      "Accuracy: 0.49\n"
     ]
    }
   ],
   "source": [
    "accuracy_mlp = accuracy_score(y_test, y_pred_mlp)\n",
    "print(f\"Accuracy: {accuracy_mlp:.2f}\")"
   ]
  },
  {
   "cell_type": "markdown",
   "id": "adbb7f24",
   "metadata": {},
   "source": [
    "# Ada boost"
   ]
  },
  {
   "cell_type": "code",
   "execution_count": 78,
   "id": "7e18709e",
   "metadata": {},
   "outputs": [],
   "source": [
    "base_classifier = DecisionTreeClassifier(max_depth=3, random_state=42)"
   ]
  },
  {
   "cell_type": "code",
   "execution_count": 79,
   "id": "228a7aec",
   "metadata": {},
   "outputs": [],
   "source": [
    "clf_ab = AdaBoostClassifier(base_classifier, n_estimators=100, random_state=42)"
   ]
  },
  {
   "cell_type": "code",
   "execution_count": 80,
   "id": "f288461f",
   "metadata": {},
   "outputs": [
    {
     "data": {
      "text/plain": [
       "AdaBoostClassifier(base_estimator=DecisionTreeClassifier(max_depth=3,\n",
       "                                                         random_state=42),\n",
       "                   n_estimators=100, random_state=42)"
      ]
     },
     "execution_count": 80,
     "metadata": {},
     "output_type": "execute_result"
    }
   ],
   "source": [
    "clf_ab.fit(X_train, y_train)"
   ]
  },
  {
   "cell_type": "code",
   "execution_count": 82,
   "id": "6c23a059",
   "metadata": {},
   "outputs": [],
   "source": [
    "y_pred_ab = clf_ab.predict(X_test)"
   ]
  },
  {
   "cell_type": "code",
   "execution_count": 83,
   "id": "0b17ad9a",
   "metadata": {},
   "outputs": [
    {
     "name": "stdout",
     "output_type": "stream",
     "text": [
      "Accuracy: 0.69\n"
     ]
    }
   ],
   "source": [
    "accuracy_ab = accuracy_score(y_test, y_pred_ab)\n",
    "print(f\"Accuracy: {accuracy_ab:.2f}\")"
   ]
  },
  {
   "cell_type": "markdown",
   "id": "2d98f117",
   "metadata": {},
   "source": [
    "# Decision trees"
   ]
  },
  {
   "cell_type": "code",
   "execution_count": 28,
   "id": "b6a1e8db",
   "metadata": {},
   "outputs": [],
   "source": [
    "clf_dt = DecisionTreeClassifier(random_state=42)"
   ]
  },
  {
   "cell_type": "code",
   "execution_count": 29,
   "id": "c8be007c",
   "metadata": {},
   "outputs": [
    {
     "data": {
      "text/plain": [
       "DecisionTreeClassifier(random_state=42)"
      ]
     },
     "execution_count": 29,
     "metadata": {},
     "output_type": "execute_result"
    }
   ],
   "source": [
    "clf_dt.fit(X_train, y_train)"
   ]
  },
  {
   "cell_type": "code",
   "execution_count": 30,
   "id": "b275d5ac",
   "metadata": {},
   "outputs": [],
   "source": [
    "y_pred_dt = clf_dt.predict(X_test)"
   ]
  },
  {
   "cell_type": "code",
   "execution_count": 31,
   "id": "13714089",
   "metadata": {},
   "outputs": [
    {
     "name": "stdout",
     "output_type": "stream",
     "text": [
      "Accuracy: 0.82\n"
     ]
    }
   ],
   "source": [
    "accuracy_dt = accuracy_score(y_test, y_pred_dt)\n",
    "print(f\"Accuracy: {accuracy_dt:.2f}\")"
   ]
  },
  {
   "cell_type": "markdown",
   "id": "938f22a5",
   "metadata": {},
   "source": [
    "# Extra trees Classifier"
   ]
  },
  {
   "cell_type": "code",
   "execution_count": 74,
   "id": "5cd8fe00",
   "metadata": {},
   "outputs": [],
   "source": [
    "clf_etc = ExtraTreesClassifier(n_estimators=100, random_state=42)"
   ]
  },
  {
   "cell_type": "code",
   "execution_count": 75,
   "id": "a1e3266e",
   "metadata": {},
   "outputs": [
    {
     "data": {
      "text/plain": [
       "ExtraTreesClassifier(random_state=42)"
      ]
     },
     "execution_count": 75,
     "metadata": {},
     "output_type": "execute_result"
    }
   ],
   "source": [
    "clf_etc.fit(X_train, y_train)"
   ]
  },
  {
   "cell_type": "code",
   "execution_count": 76,
   "id": "96890b93",
   "metadata": {},
   "outputs": [],
   "source": [
    "y_pred_etc = clf_etc.predict(X_test)"
   ]
  },
  {
   "cell_type": "code",
   "execution_count": 77,
   "id": "8161f5f6",
   "metadata": {},
   "outputs": [
    {
     "name": "stdout",
     "output_type": "stream",
     "text": [
      "Accuracy: 0.90\n"
     ]
    }
   ],
   "source": [
    "accuracy_etc = accuracy_score(y_test, y_pred_etc)\n",
    "print(f\"Accuracy: {accuracy_etc:.2f}\")"
   ]
  },
  {
   "cell_type": "markdown",
   "id": "e1b90813",
   "metadata": {},
   "source": [
    "# Random Forest"
   ]
  },
  {
   "cell_type": "code",
   "execution_count": 34,
   "id": "d2d988fc",
   "metadata": {},
   "outputs": [],
   "source": [
    "clf_rf = RandomForestClassifier(random_state=42)"
   ]
  },
  {
   "cell_type": "code",
   "execution_count": 35,
   "id": "fdfca486",
   "metadata": {},
   "outputs": [
    {
     "data": {
      "text/plain": [
       "RandomForestClassifier(random_state=42)"
      ]
     },
     "execution_count": 35,
     "metadata": {},
     "output_type": "execute_result"
    }
   ],
   "source": [
    "clf_rf.fit(X_train, y_train)"
   ]
  },
  {
   "cell_type": "code",
   "execution_count": 36,
   "id": "28235417",
   "metadata": {},
   "outputs": [],
   "source": [
    "y_pred_rf = clf_rf.predict(X_test)"
   ]
  },
  {
   "cell_type": "code",
   "execution_count": 37,
   "id": "1e18d57a",
   "metadata": {},
   "outputs": [
    {
     "name": "stdout",
     "output_type": "stream",
     "text": [
      "Accuracy: 0.90\n"
     ]
    }
   ],
   "source": [
    "accuracy_rf = accuracy_score(y_test, y_pred_rf)\n",
    "print(f\"Accuracy: {accuracy_rf:.2f}\")"
   ]
  },
  {
   "cell_type": "code",
   "execution_count": 85,
   "id": "0177e79f",
   "metadata": {},
   "outputs": [
    {
     "name": "stdout",
     "output_type": "stream",
     "text": [
      "Confusion Matrix for AdaBoost Classifier with Decision Trees:\n",
      "[[114   2   0   3   0]\n",
      " [  6  55   6   0   0]\n",
      " [  0   5  37   3   0]\n",
      " [  0   0   1  22   0]\n",
      " [  0   0   0   0   1]]\n"
     ]
    }
   ],
   "source": [
    "conf_matrix_rf = confusion_matrix(y_test, y_pred_rf)\n",
    "print(\"Confusion Matrix for AdaBoost Classifier with Decision Trees:\")\n",
    "print(conf_matrix_rf)"
   ]
  },
  {
   "cell_type": "code",
   "execution_count": null,
   "id": "dd0f2007",
   "metadata": {},
   "outputs": [],
   "source": []
  }
 ],
 "metadata": {
  "kernelspec": {
   "display_name": "Python 3 (ipykernel)",
   "language": "python",
   "name": "python3"
  },
  "language_info": {
   "codemirror_mode": {
    "name": "ipython",
    "version": 3
   },
   "file_extension": ".py",
   "mimetype": "text/x-python",
   "name": "python",
   "nbconvert_exporter": "python",
   "pygments_lexer": "ipython3",
   "version": "3.9.13"
  }
 },
 "nbformat": 4,
 "nbformat_minor": 5
}
