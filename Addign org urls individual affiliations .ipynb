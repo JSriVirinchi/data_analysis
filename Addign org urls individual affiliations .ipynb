{
 "cells": [
  {
   "cell_type": "code",
   "execution_count": null,
   "id": "83f31de4",
   "metadata": {},
   "outputs": [],
   "source": [
    "import requests\n",
    "import json\n",
    "import pandas as pd\n",
    "import urllib.parse\n",
    "from pybliometrics.scopus import AffiliationRetrieval"
   ]
  },
  {
   "cell_type": "code",
   "execution_count": null,
   "id": "00c90c26",
   "metadata": {},
   "outputs": [],
   "source": [
    "# indi_affil = pd.read_excel('')"
   ]
  },
  {
   "cell_type": "code",
   "execution_count": null,
   "id": "c41a49e2",
   "metadata": {},
   "outputs": [],
   "source": [
    "for index, row in indi_affil[[\"affiliation-afid\"]].iterrows():\n",
    "    aff = AffiliationRetrieval(row[\"affiliation-afid\"])\n",
    "    row['affiliation-org-url'] = aff.org_URL"
   ]
  },
  {
   "cell_type": "code",
   "execution_count": null,
   "id": "4e60bd3a",
   "metadata": {},
   "outputs": [],
   "source": [
    "# combined.to_excel('abc.xlsx',index=False)"
   ]
  }
 ],
 "metadata": {
  "kernelspec": {
   "display_name": "Python 3 (ipykernel)",
   "language": "python",
   "name": "python3"
  },
  "language_info": {
   "codemirror_mode": {
    "name": "ipython",
    "version": 3
   },
   "file_extension": ".py",
   "mimetype": "text/x-python",
   "name": "python",
   "nbconvert_exporter": "python",
   "pygments_lexer": "ipython3",
   "version": "3.9.13"
  }
 },
 "nbformat": 4,
 "nbformat_minor": 5
}
